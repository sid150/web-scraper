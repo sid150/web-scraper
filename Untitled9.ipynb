{
  "cells": [
    {
      "cell_type": "code",
      "execution_count": 1,
      "metadata": {
        "id": "eZ_jGFoJRNhP"
      },
      "outputs": [],
      "source": [
        "from bs4 import BeautifulSoup\n",
        "import requests"
      ]
    },
    {
      "cell_type": "code",
      "execution_count": 2,
      "metadata": {
        "id": "RkLO7DmDRYC1"
      },
      "outputs": [],
      "source": [
        "url='https://www.amazon.in/s?k=bags&crid=2M096C61O4MLT&qid=1653308124&sprefix=ba%2Caps%2C283&ref=sr_pg_1'\n",
        "HEADERS = {\n",
        "    'User-Agent': ('Mozilla/5.0 (X11; Linux x86_64)'\n",
        "                    'AppleWebKit/537.36 (KHTML, like Gecko)'\n",
        "                    'Chrome/44.0.2403.157 Safari/537.36'),\n",
        "    'Accept-Language': 'en-US, en;q=0.5'\n",
        "}\n",
        "page=requests.get(url,headers=HEADERS)\n",
        "soup=BeautifulSoup(page.text,'html.parser')\n",
        "\n"
      ]
    },
    {
      "cell_type": "code",
      "execution_count": 3,
      "metadata": {
        "id": "2V6ljkx3SH6O",
        "colab": {
          "base_uri": "https://localhost:8080/"
        },
        "outputId": "3c854781-3ac1-4cb0-9233-a7b53580f838"
      },
      "outputs": [
        {
          "output_type": "stream",
          "name": "stdout",
          "text": [
            "American Tourister 32 Ltrs Black Casual Backpack (AMT FIZZ SCH BAG 02 - BLACK)  1,199 4.0 out of 5 stars Shop BobjGear\n",
            "Skybags Brat Black 46 Cms Casual Backpack  649 4.1 out of 5 stars Price and other details may vary based on product size and colour.\n",
            "Wesley Milestone 2.0 Casual Waterproof Laptop Backpack/Office Bag/School Bag/College Bag/Business Bag/Travel Backpack (Dimensions:13x18 inches) (Compatible with 39.62cm(15.6inch laptop) 30 L (Blue & black)  565 4.3 out of 5 stars 4.0\n",
            "Kuber Industries Women's Handkerchief Set (Cream)  313 3.8 out of 5 stars (52,314)\n",
            "Fiesto Fashion PU Leather Handbags With Sling Bag For Women Large Shoulder Tote Purse Top Handle Satchel (Combo Of 3)  615 3.9 out of 5 stars M.R.P: \n",
            "ADISA women girls embroided sling bag  495 4.2 out of 5 stars 4.1\n",
            "Lapis O Lupo Women Vegan Leather Handbags Flower Embroidered Bags Fashion Satchel Bags Top Handle  974 4.2 out of 5 stars (3,778)\n",
            "ADISA 15.6 inch Laptop Backpack Office Bag College Travel Back Pack 32 Ltrs (z-Navy Blue)  1,128 3.8 out of 5 stars M.R.P: \n",
            "Half Moon 35L Water Resistant 15.6 inch Laptop Bag for Men/Backpack for Men, Navy Blue | Office Bag for Men/Office Bag for Women with Padded Laptop Compartment | Rain Cover & Reflective Strips  499 3.9 out of 5 stars 4.3\n",
            "Lavie Sport Lino Large Size 63 cms Wheel Duffle Bag for Travel | Travel Bag with Trolley  689 3.9 out of 5 stars (9,817)\n",
            "SAFARI 15 Ltrs Sea Blue Casual/School/College Backpack (DAYPACKNEO15CBSEB)  949 4.0 out of 5 stars M.R.P: \n",
            "Gear CarryOn 16L Foldable Water Resistant School Bag//Backpack/College Bag for Men/Women - Blue Black  299 3.7 out of 5 stars Written by\n",
            "Half Moon Large 37L Laptop Bag Backpack for menं Women Boys and Girls Luggage Travel Bags with 17.3 inches Laptop Compartment & Rain Cover  214 3.9 out of 5 stars Want to upgrade your basic handbag with something new and exciting? Check out these embroidered variants that are classy and spacious.\n",
            "FUR JADEN Anti Theft Number Lock Backpack Bag with 15.6 Inch Laptop Compartment, USB Charging Port & Organizer Pocket for Men Women Boys Girls  849 3.9 out of 5 stars 3.8\n",
            "Blue Tree 10 Ltrs ( Cms)Backpack(Bluetree_Backpacks_034_Multi Colour)  689 4.0 out of 5 stars (482)\n",
            "MosQuick® Clear large Drawstring Bags Clear Plastic Travel Bags, Travel Garments Organizing Storage Plastic Bags ,Shoe bags , Stationery Bag,multipurpose bag - Translucent  288 4.2 out of 5 stars M.R.P: \n",
            "Blue Tree Kids School Bag Soft Plush Backpack Combo Cartoon Bags Mini Travel Bag for for Girls Boys Toddler Baby (Pack of 2)  324 4.0 out of 5 stars This stylish handbag features a spacious compartment as well as a zip pocket. Also, it is quite durable and light to carry.\n",
            "blue tree 10 ltrs (5 Cms)Backpack(Rider01_Yellow)  439 4.0 out of 5 stars 3.9\n",
            "Blue Tree Kids School Bag Soft Plush Backpack Combo Cartoon Bags Mini Travel Bag for for Girls Boys Toddler Baby (Pack of 2)  435 5.0 out of 5 stars (4,102)\n",
            "Blue Tree Kids School Bag Soft Plush Backpack Cartoon Bags Mini Travel Bag for for Girls Boys Toddler Baby Cute Dog & Shark  288 4.6 out of 5 stars Save ₹12\n",
            "Blue Tree Velvet Kids School/Nursery/Picnic/Carry/Travelling Bag - 2 to 5 Age (Yellow_Blue School Bag)  435 4.0 out of 5 stars Made from high-quality PU leather and featuring intricate floral embroidery, this handbag features a zip closure, spacious compartments, and multiple pockets.\n",
            "Amazon Brand - Solimo Polyester Duffel Gym Bag with Shoe Compartment  435 4.2 out of 5 stars 4.2\n",
            "Mi Step Out 12 L Mini Backpack (Small Size, Black, Water Repellant)  288 4.1 out of 5 stars (1,428)\n",
            "Gear Classic 20L Faux Leather Water Resistant Anti Theft Laptop Bag/Backpack for Men/Women-Brown  549 4.4 out of 5 stars Made from synthetic leather, this embroidered bag features one main compartment, one pocket, as well as a zip closure. It is also available in three colours for you to choose from.\n",
            "Safari Quill Laptop Backpack 26 Ltrs Water Resistant Fabric - Black, L (QUILL19CBBLK)  398 3.9 out of 5 stars 4.2\n",
            "American Tourister VALEX BLUE LAPTOP BACKPACK 28 Ltrs,Volume, LAPTOP COMPARTMENT, BOTTLE POCKET, FRONT ORGANIZER  1,075 4.1 out of 5 stars (3,630)\n",
            "Gear Aspire 30L Water Restant Office Laptop Bag/Backpack for Men/Women/(Black)  799 4.3 out of 5 stars This modish handbag is made from faux leather and features floral embroidery on the front. It also comes equipped with two zip pockets, four spacious compartments, and adjustable straps.\n",
            "ADISA 35L Large Laptop Backpack Office Bag College Travel Back Pack with rain Cover (Grey)  1,299 4.0 out of 5 stars 3.8\n"
          ]
        }
      ],
      "source": [
        "product_name=soup.find_all(\"a\",{\"class\":\"a-link-normal s-underline-text s-underline-link-text s-link-style a-text-normal\"})\n",
        "\n",
        "product_link=soup.find_all(\"a\",{\"class\":\"a-link-normal s-underline-text s-underline-link-text s-link-style a-text-normal\"})\n",
        "product_review=soup.find_all(\"span\",{\"class\":\"a-size-base\"})\n",
        "product_rating=soup.find_all(\"span\",{\"class\":\"a-icon-alt\"})\n",
        "product_price=soup.find_all(\"span\",{\"class\":\"a-price-whole\"})\n",
        "# print(product_review\n",
        "for (i,j,z,k) in zip(product_name,product_price,product_rating,product_review):\n",
        "  print(i.text,j.text,z.text,k.text)\n",
        "#print(product_price)\n",
        "#print(product_link)\n",
        "# for link in product_link:\n",
        "#   print(link.get('href'))\n"
      ]
    },
    {
      "cell_type": "code",
      "execution_count": 4,
      "metadata": {
        "id": "wRwR3vEGViq8"
      },
      "outputs": [],
      "source": [
        "import csv\n",
        "with open ('bags.csv','w',newline='')as file:\n",
        "  writer=csv.writer(file)\n",
        "  writer.writerow(['sn','name','price','rating','review','url'])\n",
        "  count=1\n",
        "  for (i,j,z,k,l) in zip(product_name,product_price,product_rating,product_review,product_link):\n",
        "    writer.writerow([count,i.text,j.text,z.text,k.text,l.get('href')])\n",
        "    count+=1\n",
        "file.close()"
      ]
    },
    {
      "cell_type": "code",
      "source": [
        "import pandas as pd\n",
        "df=pd.read_csv('bags.csv')\n",
        "asinv=[]\n",
        "prod_descript=[]\n",
        "manufacture=[]\n",
        "for link in product_link:\n",
        "    lnew=\"https://www.amazon.in\"+link.get('href')\n",
        "    # print(lnew)\n",
        "    \n",
        "    pagenew=requests.get(lnew,headers=HEADERS)\n",
        "    soupnew=BeautifulSoup(pagenew.text,'html.parser')\n",
        "    # print(soupnew)\n",
        "    product_asin=soupnew.find(\"input\",{\"id\":\"ASIN\"})\n",
        "    asinv.append(product_asin['value'])\n",
        "    # print(product_asin['value'])\n",
        "    \n",
        "    prod_manu1=soupnew.find_all(\"th\",{\"class\":\"a-color-secondary a-size-base prodDetSectionEntry\"})\n",
        "    prod_manu=soupnew.find_all(\"td\",{\"class\":\"a-size-base prodDetAttrValue\"})\n",
        "    prod_desc=soupnew.find(\"div\",{\"id\":\"feature-bullets\"}).text.strip()\n",
        "    prod_descript.append(prod_desc)\n",
        "    # print(prod_manu.split())\n",
        "    \n",
        "  \n",
        "    # print(prod_desc)\n",
        "    \n",
        "    # print(prod_manu)\n",
        "    # print(prod_manu1)\n",
        "    if (prod_manu==[] and prod_manu1==[]):\n",
        "          prod_manu=soupnew.find(\"div\",{\"id\":\"detailBullets_feature_div\"}).text\n",
        "          prod_manu = prod_manu.encode(\"ascii\", \"ignore\")\n",
        "          prod_manu = prod_manu.decode()\n",
        "          prod_manu=prod_manu.split()\n",
        "          final=\"\"\n",
        "          flag=0\n",
        "          for i in prod_manu:\n",
        "            if i=='Manufacturer':\n",
        "              flag=1\n",
        "            \n",
        "            elif(final.count(\":\")==2):\n",
        "              break\n",
        "            elif (flag==1):\n",
        "              final+=i\n",
        "          final=final[1:len(final)-1]\n",
        "          # print(final)\n",
        "          manufacture.append(final)\n",
        "       \n",
        "    else:\n",
        "      val=-1\n",
        "      for i in range(len(prod_manu1)):\n",
        "        if prod_manu1[i].text.strip()==\"Manufacturer\":\n",
        "          val=i\n",
        "          break\n",
        "      # print(prod_manu1[val])\n",
        "      if(val!=-1):\n",
        "        manufacture.append(prod_manu[val].text.strip())\n",
        "df['asin']=asinv\n",
        "df['product_description']=prod_descript\n",
        "df['manufacture']=manufacture\n",
        "df.to_csv('bags.csv')\n",
        "    \n",
        "       \n",
        "    \n",
        "   \n",
        "  # product_desc=soupnew.find_all(\"span\",{\"class\":\"a-list-item\"}).\n",
        "  # print(product_desc)\n",
        "  "
      ],
      "metadata": {
        "id": "F2FU_RYyfQAa"
      },
      "execution_count": 5,
      "outputs": []
    },
    {
      "cell_type": "code",
      "source": [],
      "metadata": {
        "id": "sOSc2liv__Ss"
      },
      "execution_count": 5,
      "outputs": []
    }
  ],
  "metadata": {
    "colab": {
      "provenance": []
    },
    "kernelspec": {
      "display_name": "Python 3",
      "name": "python3"
    },
    "language_info": {
      "name": "python"
    }
  },
  "nbformat": 4,
  "nbformat_minor": 0
}